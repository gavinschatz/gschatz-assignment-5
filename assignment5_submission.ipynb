{
  "cells": [
    {
      "cell_type": "code",
      "execution_count": 70,
      "metadata": {
        "id": "eji3Hcss-AnO"
      },
      "outputs": [],
      "source": [
        "import numpy as np\n",
        "import pandas as pd"
      ]
    },
    {
      "cell_type": "code",
      "execution_count": 71,
      "metadata": {
        "id": "6yI2Mk9E-AnP"
      },
      "outputs": [],
      "source": [
        "# Define the KNN class\n",
        "class KNN:\n",
        "    def __init__(self, k=3, distance_metric='euclidean'):\n",
        "        self.k = k\n",
        "        self.distance_metric = distance_metric\n",
        "        self.X_train = None\n",
        "        self.y_train = None\n",
        "\n",
        "    def fit(self, X, y):\n",
        "        # TODO: Implement the fit method\n",
        "        self.X_train = X\n",
        "        self.y_train = y\n",
        "\n",
        "    def predict(self, X):\n",
        "        # TODO: Implement the predict method\n",
        "        y_pred = []\n",
        "        for x in X:\n",
        "            distances = self.compute_distance(self.X_train, x)\n",
        "            k_indices = np.argsort(distances)[:self.k]\n",
        "            k_nearest_labels = self.y_train[k_indices]\n",
        "            k_distances = distances[k_indices]\n",
        "\n",
        "            most_common_label = np.argmax(np.bincount(k_nearest_labels.astype(int)))\n",
        "\n",
        "            y_pred.append(most_common_label)\n",
        "        return y_pred\n",
        "\n",
        "    def compute_distance(self, X1, X2):\n",
        "        # TODO: Implement distance computation based on self.distance_metric\n",
        "        distances = np.sqrt(np.sum((X1 - X2) ** 2, axis=1))\n",
        "        return distances"
      ]
    },
    {
      "cell_type": "code",
      "execution_count": 72,
      "metadata": {
        "id": "81lJlsxt-AnQ"
      },
      "outputs": [],
      "source": [
        "# Define data preprocessing function\n",
        "def preprocess_data(train_path, test_path):\n",
        "    train_data = pd.read_csv(train_path)\n",
        "    test_data = pd.read_csv(test_path)\n",
        "\n",
        "    # TODO: Implement data preprocessing\n",
        "    # Handle categorical variables, scale features, etc.\n",
        "    # Separate features and labels for training data\n",
        "    # Assuming 'Exited' is the target variable and 'id' is a non-feature column\n",
        "    X_train = train_data.drop(columns=['Exited', 'id'])\n",
        "    y_train = train_data['Exited'].astype(int)\n",
        "    X_test = test_data.drop(columns=['id'])\n",
        "\n",
        "    # Convert to numpy arrays for use in KNN\n",
        "    X_train = X_train.select_dtypes(include=[np.number]).values\n",
        "    X_test = X_test.select_dtypes(include=[np.number]).values\n",
        "    y_train = y_train.values\n",
        "\n",
        "    # Normalize/scale the features (mean = 0, std = 1)\n",
        "    mean = np.mean(X_train, axis=0)\n",
        "    std = np.std(X_train, axis=0)\n",
        "    X_train = (X_train - mean) / std\n",
        "    X_test = (X_test - mean) / std\n",
        "\n",
        "    return X_train, y_train, X_test"
      ]
    },
    {
      "cell_type": "code",
      "execution_count": 73,
      "metadata": {
        "id": "B32V6q3i-AnQ"
      },
      "outputs": [],
      "source": [
        "# Define cross-validation function\n",
        "def cross_validate(X, y, knn, n_splits=5):\n",
        "    # TODO: Implement cross-validation\n",
        "    fold_size = len(X) // n_splits\n",
        "    # Compute ROC AUC scores\n",
        "    auc_scores = []\n",
        "\n",
        "    for i in range(n_splits):\n",
        "        start = i * fold_size\n",
        "        end = (i + 1) * fold_size if i < n_splits - 1 else len(X)\n",
        "\n",
        "        X_val = X[start:end]\n",
        "        y_val = y[start:end]\n",
        "\n",
        "        X_train = np.concatenate([X[:start], X[end:]])\n",
        "        y_train = np.concatenate([y[:start], y[end:]])\n",
        "\n",
        "        knn.fit(X_train, y_train)\n",
        "        y_pred = knn.predict(X_val)\n",
        "\n",
        "        # Compute ROC AUC score\n",
        "        accuracy = np.mean(y_pred == y_val)\n",
        "        auc_scores.append(accuracy)\n",
        "\n",
        "    return auc_scores"
      ]
    },
    {
      "cell_type": "code",
      "execution_count": 74,
      "metadata": {
        "id": "Be8L7lzS-AnQ",
        "colab": {
          "base_uri": "https://localhost:8080/"
        },
        "outputId": "9406e5d2-5fa5-4705-8035-a89ebd7a6c3e"
      },
      "outputs": [
        {
          "output_type": "stream",
          "name": "stdout",
          "text": [
            "Cross-validation scores: [0.8656666666666667, 0.874, 0.8753333333333333, 0.8683333333333333, 0.8733333333333333]\n",
            "Best k: 9\n",
            "Best score: 0.8750666666666668\n"
          ]
        }
      ],
      "source": [
        "# Load and preprocess data\n",
        "X, y, X_test = preprocess_data('/content/train.csv', '/content/test.csv')\n",
        "\n",
        "# Create and evaluate model\n",
        "knn = KNN(k=5, distance_metric='euclidean')\n",
        "\n",
        "# Perform cross-validation\n",
        "cv_scores = cross_validate(X, y, knn)\n",
        "\n",
        "print(\"Cross-validation scores:\", cv_scores)\n",
        "\n",
        "# TODO: hyperparamters tuning\n",
        "def hyperparameters_tuning(X, knn):\n",
        "    best_k = None\n",
        "    best_score = -1\n",
        "    k_values = [3, 5, 7, 9]\n",
        "\n",
        "    for k in k_values:\n",
        "          knn = KNN(k=k, distance_metric='euclidean')\n",
        "          score = cross_validate(X, y, knn)  # Use the new instance\n",
        "          avg_score = np.mean(score)\n",
        "          if avg_score > best_score: # Added check for None score\n",
        "              best_score = avg_score\n",
        "              best_k = k\n",
        "\n",
        "    print(\"Best k:\", best_k)\n",
        "    print(\"Best score:\", best_score)\n",
        "    return best_k\n",
        "\n",
        "best_k = hyperparameters_tuning(X, knn)\n",
        "\n",
        "# TODO: Train on full dataset with optimal hyperparameters and make predictions on test set\n",
        "knn = KNN(k=best_k, distance_metric='euclidean')\n",
        "knn.fit(X, y)\n",
        "test_predictions = knn.predict(X_test)\n",
        "\n",
        "# Save test predictions\n",
        "pd.DataFrame({'id': pd.read_csv('/content/test.csv')['id'], 'Exited': test_predictions}).to_csv('submissions.csv', index=False)"
      ]
    },
    {
      "cell_type": "code",
      "source": [],
      "metadata": {
        "id": "ODv51-9_NZYO"
      },
      "execution_count": null,
      "outputs": []
    }
  ],
  "metadata": {
    "kernelspec": {
      "display_name": "cs506",
      "language": "python",
      "name": "python3"
    },
    "language_info": {
      "codemirror_mode": {
        "name": "ipython",
        "version": 3
      },
      "file_extension": ".py",
      "mimetype": "text/x-python",
      "name": "python",
      "nbconvert_exporter": "python",
      "pygments_lexer": "ipython3",
      "version": "3.10.15"
    },
    "colab": {
      "provenance": []
    }
  },
  "nbformat": 4,
  "nbformat_minor": 0
}